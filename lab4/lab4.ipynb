{
 "cells": [
  {
   "cell_type": "code",
   "execution_count": 234,
   "metadata": {},
   "outputs": [],
   "source": [
    "import random\n",
    "import numpy as np\n",
    "import seaborn as sns\n",
    "from scipy.stats import norm\n",
    "import matplotlib.pyplot as plt\n",
    "from scipy.stats import expon\n",
    "import math\n",
    "import csv\n",
    "import copy\n",
    "from statistics import mean "
   ]
  },
  {
   "cell_type": "markdown",
   "metadata": {},
   "source": [
    "# 2.1  Discrete memorylessness: Wheel of Fortune"
   ]
  },
  {
   "cell_type": "markdown",
   "metadata": {},
   "source": [
    "A)Ai= 0.1 while i belongs to Z++\n",
    "\n",
    "B)xi=0.9^(i-1)*0.1"
   ]
  },
  {
   "cell_type": "code",
   "execution_count": 235,
   "metadata": {
    "scrolled": true
   },
   "outputs": [
    {
     "data": {
      "image/png": "[encoded data removed]",
      "text/plain": [
       "<Figure size 432x288 with 1 Axes>"
      ]
     },
     "metadata": {
      "needs_background": "light"
     },
     "output_type": "display_data"
    }
   ],
   "source": [
    "\n",
    "def wheel(alpha):\n",
    "    return int(random.uniform(0,1)<alpha)\n",
    "    \n",
    "mylist=[]\n",
    "for i in range(1000000):\n",
    "    Set = set()\n",
    "    n=0\n",
    "    while len(Set)!=2:\n",
    "        n+=1\n",
    "        Set.add(wheel(0.1))\n",
    "    mylist.append(n)\n",
    "#B)    \n",
    "\n",
    "Dict={key:0 for key in range(max(mylist)+1)}\n",
    "for n in mylist:\n",
    "    Dict[n]+=1\n",
    "\n",
    "    \n",
    "\n",
    "D = {k:v/1000000 for (k,v) in Dict.items()}\n",
    "x = range(max(D.keys())+1)\n",
    "y = [D[key] for key in x]\n",
    "\n",
    "plt.bar(x,y)\n",
    "\n",
    "\n",
    "plt.show()\n",
    "\n",
    "\n",
    "\n"
   ]
  },
  {
   "cell_type": "code",
   "execution_count": 236,
   "metadata": {},
   "outputs": [
    {
     "name": "stdout",
     "output_type": "stream",
     "text": [
      "35.50349650349651\n"
     ]
    }
   ],
   "source": [
    "lists = sorted(D.items())\n",
    "x, y = zip(*lists)\n",
    "\n",
    "print(np.mean(lists))\n",
    "\n"
   ]
  },
  {
   "cell_type": "code",
   "execution_count": 242,
   "metadata": {},
   "outputs": [
    {
     "name": "stdout",
     "output_type": "stream",
     "text": [
      "[1, 2, 3, 4, 5, 6, 7, 8, 9, 10, 11, 12, 13, 14, 15, 16, 17, 18, 19, 20, 21, 22, 23, 24, 25, 26, 27, 28, 29, 30, 31, 32, 33, 34, 35, 36, 37, 38, 39, 40, 41, 42, 43, 44, 45, 46, 47, 48, 49, 50, 51, 52, 53, 54, 55, 56, 57, 58, 59, 60, 61, 62, 63, 64, 65, 66, 67, 68, 69, 70, 71, 72, 73, 74, 75, 76, 77, 78, 79, 80, 81, 82, 83, 84, 85, 86, 87, 88, 89, 90, 91, 92, 93, 94, 95, 96, 97, 98, 99, 100, 101, 102, 103, 104, 105, 106, 107, 108, 109, 110, 111, 112, 113, 114, 115, 116, 117, 118, 119, 120, 121, 122, 123, 124, 125, 126, 127, 128]\n",
      "31.75\n"
     ]
    },
    {
     "data": {
      "image/png": "[encoded data removed]",
      "text/plain": [
       "<Figure size 432x288 with 1 Axes>"
      ]
     },
     "metadata": {
      "needs_background": "light"
     },
     "output_type": "display_data"
    }
   ],
   "source": [
    "\n",
    "sample=[x-3 for x in Dict if x>3]\n",
    "Y=[Dict[x+3]/1000000 for x in sample]\n",
    "\n",
    "\n",
    "plt.bar(sample,Y)\n",
    "\n",
    "Dict={key:0 for key in range(len(sample))}\n",
    "for n in sample:\n",
    "    Dict[n-1]=Y[n-1]\n",
    "lists = sorted(Dict.items())\n",
    "print(np.mean(lists))\n",
    "\n",
    "\n",
    "        \n",
    "\n",
    "\n",
    "    \n",
    "\n"
   ]
  },
  {
   "cell_type": "code",
   "execution_count": 238,
   "metadata": {},
   "outputs": [
    {
     "name": "stdout",
     "output_type": "stream",
     "text": [
      "32.75000000132159\n"
     ]
    },
    {
     "data": {
      "image/png": "[encoded data removed]",
      "text/plain": [
       "<Figure size 432x288 with 1 Axes>"
      ]
     },
     "metadata": {
      "needs_background": "light"
     },
     "output_type": "display_data"
    }
   ],
   "source": [
    "sample=[x-6 for x in Dict if x>6]\n",
    "Y=[Dict[x+6]/1000000 for x in sample]\n",
    "\n",
    "\n",
    "plt.bar(sample,Y)\n",
    "\n",
    "        \n",
    "Dict={key:0 for key in range(len(sample))}\n",
    "for n in sample:\n",
    "    Dict[n-1]=Y[n-1]\n",
    "lists = sorted(Dict.items())\n",
    "\n",
    "print(np.mean(lists))"
   ]
  },
  {
   "cell_type": "markdown",
   "metadata": {},
   "source": [
    "# 2.2 Continuous memorylessness: Lightnings"
   ]
  },
  {
   "cell_type": "code",
   "execution_count": 282,
   "metadata": {},
   "outputs": [
    {
     "data": {
      "text/plain": [
       "[<matplotlib.lines.Line2D at 0x1f9c7504c18>]"
      ]
     },
     "execution_count": 282,
     "metadata": {},
     "output_type": "execute_result"
    },
    {
     "data": {
      "image/png": "[encoded data removed]",
      "text/plain": [
       "<Figure size 432x288 with 1 Axes>"
      ]
     },
     "metadata": {
      "needs_background": "light"
     },
     "output_type": "display_data"
    }
   ],
   "source": [
    "\n",
    "  \n",
    "y={}\n",
    "sample=[]\n",
    "for i in range(1000000):\n",
    "    data=random.expovariate(0.1)\n",
    "    sample.append(data)\n",
    "\n",
    "\n",
    "result=[]\n",
    "Max=max(sample)\n",
    "for i in sample:\n",
    "    result.append(discrtization(0,Max,100,i))\n",
    "    \n",
    "for i in result:\n",
    "    if i not in y:\n",
    "        y[i]=1\n",
    "    else: \n",
    "        y[i]+=1       \n",
    "for i in y.keys():\n",
    "    y[i]/=1000000\n",
    "    \n",
    "    \n",
    "\n",
    "plt.xlim([0,100])\n",
    "plt.plot(np.sort([key for key in y.keys()]), [y[i] for i in np.sort([key for key in y.keys()]) ] )"
   ]
  },
  {
   "cell_type": "code",
   "execution_count": 240,
   "metadata": {},
   "outputs": [],
   "source": [
    "def discrtization(l,u,m,x):\n",
    "    length=(u-l)/m\n",
    "    id=(x-l)//length\n",
    "    x=l+(id+0.5)*length\n",
    "    return x"
   ]
  },
  {
   "cell_type": "code",
   "execution_count": 281,
   "metadata": {},
   "outputs": [
    {
     "data": {
      "text/plain": [
       "[<matplotlib.lines.Line2D at 0x1f9bf5f2fd0>]"
      ]
     },
     "execution_count": 281,
     "metadata": {},
     "output_type": "execute_result"
    },
    {
     "data": {
      "image/png": "[encoded data removed]",
      "text/plain": [
       "<Figure size 432x288 with 1 Axes>"
      ]
     },
     "metadata": {
      "needs_background": "light"
     },
     "output_type": "display_data"
    }
   ],
   "source": [
    "#original data\n",
    "X=[x-2 for x in sample if x>2]\n",
    "Xd=[]\n",
    "\n",
    "for i in X:\n",
    "    Xd.append(discrtization(0,100,100,i))\n",
    "    \n",
    "Y={}\n",
    "for i in Xd:\n",
    "    if i not in Y:\n",
    "        Y[i]=1\n",
    "    else: \n",
    "        Y[i]+=1    \n",
    "\n",
    "for i in Y.keys():\n",
    "    Y[i]/=1000000\n",
    "    \n",
    "\n",
    "plt.xlim([0,100])\n",
    "plt.plot(np.sort([key for key in Y.keys()]), [Y[i] for i in np.sort([key for key in Y.keys()]) ] )\n"
   ]
  }
 ],
 "metadata": {
  "kernelspec": {
   "display_name": "Python 3",
   "language": "python",
   "name": "python3"
  },
  "language_info": {
   "codemirror_mode": {
    "name": "ipython",
    "version": 3
   },
   "file_extension": ".py",
   "mimetype": "text/x-python",
   "name": "python",
   "nbconvert_exporter": "python",
   "pygments_lexer": "ipython3",
   "version": "3.7.1"
  }
 },
 "nbformat": 4,
 "nbformat_minor": 2
}
